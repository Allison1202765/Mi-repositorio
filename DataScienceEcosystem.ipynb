{
 "cells": [
  {
   "cell_type": "markdown",
   "metadata": {},
   "source": [
    "<center>\n",
    "    <img src=\"https://cf-courses-data.s3.us.cloud-object-storage.appdomain.cloud/IBMDeveloperSkillsNetwork-DS0105EN-SkillsNetwork/labs/Module2/images/SN_web_lightmode.png\" width=\"300\" alt=\"cognitiveclass.ai logo\">\n",
    "</center>\n"
   ]
  },
  {
   "cell_type": "markdown",
   "metadata": {},
   "source": [
    "# Data Science Tools and Ecosystem"
   ]
  },
  {
   "attachments": {},
   "cell_type": "markdown",
   "metadata": {},
   "source": [
    "En este cuaderno, se resumen las herramientas y ecosistemas de ciencia de datos más utilizados en la actualidad. Exploraremos los entornos, bibliotecas y lenguajes eseciales que permiten a los cientificos de datos analizar y visualizar información de manera eficiente. "
   ]
  },
  {
   "cell_type": "markdown",
   "metadata": {},
   "source": [
    "**Objetivos:**  \n",
    "\n",
    "- Listar lenguajes de programación en Ciencia de Datos  \n",
    "- Listar bibliotecas más populares en Ciencia de Datos  \n",
    "- Comprender entornos de desarrollo de código abierto para Ciencia de Datos  \n",
    "- Explorar herramientas utilizadas en análisis de datos\n",
    "- Evaluar expresiones aritméticas y resolver operaciones \n"
   ]
  },
  {
   "cell_type": "markdown",
   "metadata": {},
   "source": [
    "# Lenguajes de Programación en Ciencia de Datos  \n",
    "\n",
    "Los científicos de datos utilizan una variedad de lenguajes de programación para analizar y procesar datos. A continuación, se presentan algunos de los más populares:  \n",
    " \n",
    " - **Python**: es el lenguaje más utilizado en ciencia de datos debido a su facilidad de uso y su amplio ecosistema de bibliotecas.\n",
    "\n",
    " - **R**: muy popular en estadísticas y análisis de datos. Es ampliamente utilizado por investigadores y académicos.  \n",
    " \n",
    " - **SQL**: es el estándar para la gestión y consulta de bases de datos relacionales.   \n",
    "   \n",
    " - **Julia**: es un lenguaje emergente en ciencia de datos y computación científica. \n",
    " \n",
    " - **Scala**: se usa en el análisis de big data, especialmente con Apache Spark.\n",
    "\n",
    "\n",
    "Estos lenguajes son fundamentales en la ciencia de datos y cada uno tiene sus fortalezas dependiendo del tipo de análisis que se quiera realizar."
   ]
  },
  {
   "cell_type": "markdown",
   "metadata": {},
   "source": [
    "# Bibliotecas más Populares en Ciencia de Datos  \n",
    "\n",
    "Los científicos de datos utilizan diversas bibliotecas para análisis, manipulación y visualización de datos. A continuación, se presentan algunas de las más utilizadas:  \n",
    "\n",
    "## Para Manipulación y Análisis de Datos  \n",
    "- **Pandas**: Manejo de estructuras de datos como DataFrames y Series.  \n",
    "- **NumPy**: Computación numérica y manipulación de arreglos multidimensionales.  \n",
    "- **Dask**: Procesamiento de grandes volúmenes de datos en paralelo.  \n",
    "\n",
    "## Para Visualización de Datos  \n",
    "- **Matplotlib**: Creación de gráficos personalizados en 2D.  \n",
    "- **Seaborn**: Visualización estadística basada en Matplotlib.  \n",
    "- **Plotly**: Gráficos interactivos en la web.  \n",
    "\n",
    "## Aprendizaje Automático y Modelado  \n",
    "- **Scikit-learn**: Modelado de datos, clasificación, regresión y clustering.  \n",
    "- **TensorFlow**: Desarrollo de modelos de aprendizaje profundo.  \n",
    "- **PyTorch**: Alternativa flexible a TensorFlow para redes neuronales.  \n",
    "\n",
    "## Para Big Data y Computación Distribuida  \n",
    "- **Apache Spark**: Procesamiento distribuido de grandes volúmenes de datos.  \n",
    "- **Hadoop**: Almacenamiento y procesamiento de datos en clústeres.  \n"
   ]
  },
  {
   "cell_type": "markdown",
   "metadata": {},
   "source": [
    "| Herramientas de Ciencia de Datos |\n",
    "|----------------------------------|\n",
    "| Jupyter Notebook                 |\n",
    "| RStudio                          |\n",
    "| Apache Zeppelin                  |\n"
   ]
  },
  {
   "cell_type": "markdown",
   "metadata": {},
   "source": [
    "# Expresiones Aritméticas en Python  \n",
    "\n",
    "### Las expresiones aritméticas en Python permiten realizar operaciones matemáticas básicas y avanzadas. A continuación, se presentan algunos ejemplos:  \n",
    "\n",
    "### Operaciones Básicas  \n",
    "\n",
    "- **Suma** a = 10 + 5    Resultado: 15\n",
    "\n",
    "- **Resta** b = 20 - 8    Resultado: 12\n",
    "\n",
    "- **Multiplicación** c = 6 * 4    Resultado: 24\n",
    "\n",
    "- **División** d = 16 / 4    Resultado: 4\n",
    "\n",
    "### Operaciones Avanzadas \n",
    "\n",
    "- **Potenciación** e = 2 ** 3    Resultado: 8\n",
    "\n",
    "- **División Entera** f = 17 // 3  División sin decimales,   Resultado: 5\n",
    "\n",
    "- **Uso de paréntesis para definir prioridad** g = (10 + 2) * 3    Resultado: 36\n"
   ]
  },
  {
   "cell_type": "code",
   "execution_count": 16,
   "metadata": {},
   "outputs": [],
   "source": [
    "# En esta expresión, primero se evalúa la multiplicación 3*4, siendo 12.\n",
    "# Luego, el resultado de la multiplicación se suma con 5, obteniendo 17.\n",
    "# Esto sigue la jerarquía de operaciones en matemáticas.\n",
    "# Donde la multiplicación se resuelve antes que la suma.\n"
   ]
  },
  {
   "cell_type": "code",
   "execution_count": 18,
   "metadata": {},
   "outputs": [
    {
     "data": {
      "text/plain": [
       "17"
      ]
     },
     "execution_count": 18,
     "metadata": {},
     "output_type": "execute_result"
    }
   ],
   "source": [
    "(3*4)+5"
   ]
  },
  {
   "cell_type": "code",
   "execution_count": 19,
   "metadata": {},
   "outputs": [],
   "source": [
    "# Este procedimiento convertirá 200 minutos en horas.\n",
    "# Primero definimos la cantidad de minutos que queremos convertir minutos=200. \n",
    "# Para convertir minutos a horas, dividimos los minutos entre 60.\n",
    "# ya que 60 minutos tienen 1 hora."
   ]
  },
  {
   "cell_type": "code",
   "execution_count": 20,
   "metadata": {},
   "outputs": [
    {
     "data": {
      "text/plain": [
       "3.3333333333333335"
      ]
     },
     "execution_count": 20,
     "metadata": {},
     "output_type": "execute_result"
    }
   ],
   "source": [
    "(200/60)"
   ]
  },
  {
   "cell_type": "markdown",
   "metadata": {},
   "source": [
    "## Autor: Allison Espinoza"
   ]
  },
  {
   "cell_type": "code",
   "execution_count": null,
   "metadata": {},
   "outputs": [],
   "source": []
  }
 ],
 "metadata": {
  "kernelspec": {
   "display_name": "Python 3 (ipykernel)",
   "language": "python",
   "name": "python3"
  },
  "language_info": {
   "codemirror_mode": {
    "name": "ipython",
    "version": 3
   },
   "file_extension": ".py",
   "mimetype": "text/x-python",
   "name": "python",
   "nbconvert_exporter": "python",
   "pygments_lexer": "ipython3",
   "version": "3.12.8"
  }
 },
 "nbformat": 4,
 "nbformat_minor": 4
}
git rm DataScienceEcosystem.ipynb



